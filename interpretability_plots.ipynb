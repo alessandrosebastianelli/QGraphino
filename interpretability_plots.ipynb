{
 "cells": [
  {
   "cell_type": "code",
   "execution_count": null,
   "metadata": {
    "pycharm": {
     "name": "#%%\n"
    }
   },
   "outputs": [],
   "source": [
    "%load_ext autoreload\n",
    "%autoreload 2"
   ]
  },
  {
   "cell_type": "code",
   "execution_count": null,
   "metadata": {
    "pycharm": {
     "name": "#%%\n"
    }
   },
   "outputs": [],
   "source": [
    "import os\n",
    "import torch\n",
    "from graphino.GCN.GCN_model import GCN\n",
    "from graphino.training import get_static_feats\n",
    "from utilities.data_wrangling import load_cnn_data\n",
    "from utilities.plotting import plot_centrality_from_adj\n",
    "import warnings\n",
    "warnings.filterwarnings(\"ignore\")"
   ]
  },
  {
   "cell_type": "markdown",
   "metadata": {
    "pycharm": {
     "name": "#%% md\n"
    }
   },
   "source": [
    "# Eigenvector Centrality Heatmaps of the learned world connectivity structure\n",
    "## $-$ This notebook corresponds to Fig. 2 in the paper\n",
    "\n",
    "It will reload all pre-trained models corresponding to th Fig. 2 plots, and compute\n",
    "the eigenvector centrality score of all nodes, to then produce a heatmap of them.\n",
    "The used models have the strongest performance among the four ensemble members reported in our main results."
   ]
  },
  {
   "cell_type": "code",
   "execution_count": null,
   "metadata": {
    "collapsed": false,
    "pycharm": {
     "name": "#%%\n"
    }
   },
   "outputs": [],
   "source": [
    "def reload_and_plot_eigv_centrality(model_dir, lead_months, data_dir=None, device='cuda', ID='50ep'):\n",
    "    out = f'out/{lead_months}lead/'\n",
    "    try:\n",
    "        model_dir = out + model_dir\n",
    "        model_dict = torch.load(os.path.join(model_dir, ID + '_model.pkl'))\n",
    "    except FileNotFoundError as e:\n",
    "        print(e)\n",
    "        return\n",
    "    params, net_params = model_dict['metadata']['params'], model_dict['metadata']['net_params']\n",
    "    load_data_kwargs = {\n",
    "        'window': params['window'], 'lead_months': params['horizon'], 'lon_min': params['lon_min'],\n",
    "        'lon_max': params['lon_max'], 'lat_min': params['lat_min'], 'lat_max': params['lat_max'],\n",
    "        'data_dir': params['data_dir'], 'use_heat_content': params['use_heat_content'],\n",
    "        'add_index_node': net_params['index_node'], \n",
    "    }\n",
    "    if data_dir is not None:\n",
    "        load_data_kwargs['data_dir'] = data_dir\n",
    "    cmip5, SODA, GODAS, cords = load_cnn_data(**load_data_kwargs,\n",
    "                                                return_new_coordinates=True,\n",
    "                                                return_mask=False, verbose=False)\n",
    "    static_feats = get_static_feats(params, net_params, cords, SODA[0])\n",
    "    lats, lons = GODAS[0].attrs[\"Lats\"], GODAS[0].attrs[\"Lons\"]\n",
    "\n",
    "    model = GCN(net_params, static_feat=static_feats, verbose=False)\n",
    "    state_dict = model_dict['model']\n",
    "    model.load_state_dict(state_dict)\n",
    "    model.eval()\n",
    "    model.to(device)\n",
    "\n",
    "    adj = model.graph_learner().detach().cpu().numpy()\n",
    "    if net_params['index_node']:  # do not plot the index node\n",
    "        adj = adj[:-1, :-1]\n",
    "    plot_centrality_from_adj(adj, lats, lons, coordinates=cords, save_to=None, set_title=False, verbose=False,\n",
    "                                    min_weight=0, show=True, horizon=params['horizon'])\n"
   ]
  },
  {
   "cell_type": "code",
   "execution_count": null,
   "metadata": {
    "pycharm": {
     "name": "#%%\n"
    }
   },
   "outputs": [],
   "source": [
    "kwargs = {\n",
    "    'device': 'cuda',\n",
    "    'ID': '50ep', \n",
    "    'data_dir': './Data/'\n",
    "}"
   ]
  },
  {
   "cell_type": "markdown",
   "metadata": {
    "pycharm": {
     "name": "#%% md\n"
    }
   },
   "source": [
    "# 1 lead"
   ]
  },
  {
   "cell_type": "code",
   "execution_count": null,
   "metadata": {
    "pycharm": {
     "name": "#%%\n"
    },
    "scrolled": false
   },
   "outputs": [],
   "source": [
    "reload_and_plot_eigv_centrality('250x250', lead_months=1, **kwargs)"
   ]
  },
  {
   "cell_type": "markdown",
   "metadata": {},
   "source": [
    "# 3 lead"
   ]
  },
  {
   "cell_type": "code",
   "execution_count": null,
   "metadata": {
    "pycharm": {
     "name": "#%%\n"
    }
   },
   "outputs": [],
   "source": [
    "reload_and_plot_eigv_centrality('250x250', lead_months=3, **kwargs)"
   ]
  },
  {
   "cell_type": "markdown",
   "metadata": {},
   "source": [
    "# 6 lead"
   ]
  },
  {
   "cell_type": "code",
   "execution_count": null,
   "metadata": {
    "pycharm": {
     "name": "#%%\n"
    }
   },
   "outputs": [],
   "source": [
    "reload_and_plot_eigv_centrality('200x200x200_Mean+Sum', lead_months=6, **kwargs)\n"
   ]
  },
  {
   "cell_type": "markdown",
   "metadata": {},
   "source": [
    "# 9 lead"
   ]
  },
  {
   "cell_type": "code",
   "execution_count": null,
   "metadata": {
    "pycharm": {
     "name": "#%%\n"
    }
   },
   "outputs": [],
   "source": [
    "reload_and_plot_eigv_centrality('250x250', lead_months=9, **kwargs)\n"
   ]
  },
  {
   "cell_type": "markdown",
   "metadata": {},
   "source": [
    "# 12 lead"
   ]
  },
  {
   "cell_type": "code",
   "execution_count": null,
   "metadata": {
    "pycharm": {
     "name": "#%%\n"
    }
   },
   "outputs": [],
   "source": [
    "reload_and_plot_eigv_centrality('200x200x200_Mean+Sum', lead_months=12, **kwargs)\n"
   ]
  },
  {
   "cell_type": "markdown",
   "metadata": {},
   "source": [
    "# 23 lead"
   ]
  },
  {
   "cell_type": "code",
   "execution_count": null,
   "metadata": {
    "pycharm": {
     "name": "#%%\n"
    }
   },
   "outputs": [],
   "source": [
    "reload_and_plot_eigv_centrality('200x200x200_Mean+Sum', lead_months=23, **kwargs)"
   ]
  }
 ],
 "metadata": {
  "kernelspec": {
   "display_name": "px2",
   "language": "python",
   "name": "px2"
  },
  "language_info": {
   "codemirror_mode": {
    "name": "ipython",
    "version": 3
   },
   "file_extension": ".py",
   "mimetype": "text/x-python",
   "name": "python",
   "nbconvert_exporter": "python",
   "pygments_lexer": "ipython3",
   "version": "3.7.9"
  }
 },
 "nbformat": 4,
 "nbformat_minor": 1
}
