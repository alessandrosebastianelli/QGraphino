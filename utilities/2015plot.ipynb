{
 "cells": [
  {
   "cell_type": "code",
   "execution_count": null,
   "metadata": {},
   "outputs": [],
   "source": [
    "import pandas as pd\n",
    "from matplotlib import pyplot as plt\n",
    "import numpy as np\n",
    "\n",
    "data_dir = '2015_data/'\n",
    "\n",
    "# dynamical and statistical data obtained from:\n",
    "# https://iri.columbia.edu/our-expertise/climate/forecasts/enso/2015-January-quick-look/?enso_tab=enso-sst_table\n",
    "# observation data obtained from:\n",
    "# https://origin.cpc.ncep.noaa.gov/products/analysis_monitoring/ensostuff/ONI_v5.php\n",
    "\n",
    "dynamical_data = pd.read_csv(f'{data_dir}dynamical_data_2015.csv', sep=';', index_col=0)\n",
    "statistical_data = pd.read_csv(f'{data_dir}statistical_data_2015.csv', sep=';', index_col=0)\n",
    "observation_data = pd.read_csv(f'{data_dir}observation_data_2015.csv', sep=';').T"
   ]
  },
  {
   "cell_type": "code",
   "execution_count": null,
   "metadata": {},
   "outputs": [],
   "source": [
    "from scipy.stats import pearsonr\n",
    "from matplotlib import cm\n",
    "\n",
    "def plot_results(dataset, ax):\n",
    "    \n",
    "    markers = ['o', 'v', 's']\n",
    "    colors_available = 10\n",
    "    \n",
    "    # plot observation\n",
    "    ax.plot(observation_data, 'o-', label='Observation', color='k', lw=3, zorder=999)\n",
    "    ax.set_xlabel(\"Season\", fontsize=18)\n",
    "    ax.set_ylabel(\"Temperature anomaly [°C]\", fontsize=18)\n",
    "    ax.set_xlim(('NDJ 2014/15', 'SON'))\n",
    "    ax.set_ylim((-1, 3))\n",
    "    ax.axvspan('NDJ 2014/15', 'JFM', alpha=0.2, color='gray')\n",
    "    \n",
    "    # sort models by corrcoeff\n",
    "    corrcoeffs = []\n",
    "    for i, model in enumerate(dataset.index):\n",
    "        data = dataset.loc[model].dropna()\n",
    "        data_np = np.array(data)\n",
    "        obs = observation_data.loc[observation_data.index[2:]].to_numpy()[:len(data_np)]\n",
    "        corrcoeffs.append(pearsonr(data_np, obs.T[0])[0])\n",
    "        \n",
    "    models = list(dataset.index)\n",
    "    corrcoeffs, models = zip(*sorted(zip(corrcoeffs, models), reverse=True))\n",
    "    \n",
    "        \n",
    "    # plot models\n",
    "    for i, model in enumerate(models):\n",
    "        data = dataset.loc[model].dropna()\n",
    "        data_np = np.array(data)\n",
    "        ax.plot(data, f'{markers[int(i/colors_available)]}-', \n",
    "                label=\"{}, ρ={:.3f}\".format(model, corrcoeffs[i]))\n",
    "        \n",
    "        # connect observation to first prediction\n",
    "        point_from_x, point_from_y = 'DJF 2014/15', observation_data.loc['DJF 2014/15']\n",
    "        point_to_x, point_to_y = 'JFM', data_np[0]\n",
    "        ax.plot([point_from_x, point_to_x], [point_from_y, point_to_y], \n",
    "                f'{markers[int(i/colors_available)]}--', color='k', alpha=0.5)\n",
    "        \n",
    "        \n",
    "    # TODO: plot graphino\n",
    "    \n",
    "    # TODO: plot CNN, Ham et al\n",
    "        \n",
    "    "
   ]
  },
  {
   "cell_type": "code",
   "execution_count": null,
   "metadata": {},
   "outputs": [],
   "source": [
    "fig, ax = plt.subplots(figsize=(16,8))\n",
    "\n",
    "plot_results(dynamical_data, ax)\n",
    "plt.grid()\n",
    "ax.set_title(\"Dynamical models and Graphiño predictions for ENSO issued on January, 2015\", fontsize=18)\n",
    "\n",
    "plt.legend(loc=(1.04,0.0), fontsize=16)"
   ]
  },
  {
   "cell_type": "code",
   "execution_count": null,
   "metadata": {},
   "outputs": [],
   "source": [
    "fig, ax = plt.subplots(figsize=(16,8))\n",
    "\n",
    "plot_results(statistical_data, ax)\n",
    "plt.grid()\n",
    "ax.set_title(\"Statistical models and Graphiño predictions for ENSO issued on January, 2015\", fontsize=18)\n",
    "\n",
    "plt.legend(loc=(1.04,0.2), fontsize=16)"
   ]
  }
 ],
 "metadata": {
  "kernelspec": {
   "display_name": "Python 3",
   "language": "python",
   "name": "python3"
  },
  "language_info": {
   "codemirror_mode": {
    "name": "ipython",
    "version": 3
   },
   "file_extension": ".py",
   "mimetype": "text/x-python",
   "name": "python",
   "nbconvert_exporter": "python",
   "pygments_lexer": "ipython3",
   "version": "3.7.9"
  }
 },
 "nbformat": 4,
 "nbformat_minor": 4
}
